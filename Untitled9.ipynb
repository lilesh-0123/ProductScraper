{
  "nbformat": 4,
  "nbformat_minor": 0,
  "metadata": {
    "colab": {
      "provenance": []
    },
    "kernelspec": {
      "name": "python3",
      "display_name": "Python 3"
    },
    "language_info": {
      "name": "python"
    }
  },
  "cells": [
    {
      "cell_type": "code",
      "source": [],
      "metadata": {
        "id": "msxP5gjb3Ol5"
      },
      "execution_count": null,
      "outputs": []
    },
    {
      "cell_type": "code",
      "source": [
        "import requests\n",
        "from bs4 import BeautifulSoup\n",
        "import csv\n",
        "\n",
        "# URL of the e-commerce page (Change this to the actual website URL)\n",
        "URL = \"https://example.com/products\"\n",
        "\n",
        "# Headers to mimic a real browser request\n",
        "HEADERS = {\n",
        "    \"User-Agent\": \"Mozilla/5.0 (Windows NT 10.0; Win64; x64) AppleWebKit/537.36 (KHTML, like Gecko) Chrome/110.0.0.0 Safari/537.36\"\n",
        "}\n",
        "\n",
        "# Function to scrape product data\n",
        "def scrape_products(url):\n",
        "    response = requests.get(url, headers=HEADERS)\n",
        "    soup = BeautifulSoup(response.content, \"html.parser\")\n",
        "\n",
        "    products = []\n",
        "\n",
        "    # Modify these selectors based on the website's HTML structure\n",
        "    for item in soup.find_all(\"div\", class_=\"product-card\"):\n",
        "        name = item.find(\"h2\", class_=\"product-title\").text.strip()\n",
        "        price = item.find(\"span\", class_=\"product-price\").text.strip()\n",
        "        rating = item.find(\"span\", class_=\"product-rating\").text.strip() if item.find(\"span\", class_=\"product-rating\") else \"No rating\"\n",
        "\n",
        "        products.append([name, price, rating])\n",
        "\n",
        "    return products\n",
        "\n",
        "# Save data to CSV\n",
        "def save_to_csv(products, filename=\"products.csv\"):\n",
        "    with open(filename, \"w\", newline=\"\", encoding=\"utf-8\") as file:\n",
        "        writer = csv.writer(file)\n",
        "        writer.writerow([\"Name\", \"Price\", \"Rating\"])\n",
        "        writer.writerows(products)\n",
        "\n",
        "# Run the scraper\n",
        "product_data = scrape_products(URL)\n",
        "save_to_csv(product_data)\n",
        "\n",
        "print(\"Data successfully saved to products.csv\")\n"
      ],
      "metadata": {
        "colab": {
          "base_uri": "https://localhost:8080/"
        },
        "id": "sqeBeZB93BpN",
        "outputId": "dda46ef8-66c7-435d-87a9-acbc2497aa27"
      },
      "execution_count": 6,
      "outputs": [
        {
          "output_type": "stream",
          "name": "stdout",
          "text": [
            "Data successfully saved to products.csv\n"
          ]
        }
      ]
    }
  ]
}